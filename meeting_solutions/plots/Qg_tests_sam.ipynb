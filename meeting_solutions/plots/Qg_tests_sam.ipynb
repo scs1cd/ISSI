{
 "cells": [
  {
   "cell_type": "markdown",
   "metadata": {},
   "source": [
    "For our models we see Qg_l, the gravitational energy associated with remixing the molten snow across the liquid region below, decreasing with higher Sulphur contents. Our expectation was that more Sulphur in the core leads to more snow and larger amounts of gravitational energy.\n",
    "\n",
    "Below I calculate 2 models, the same except one has 5 wt% and one has 10 wt% Sulphur. The key information is the print out of the integral terms below. The reason we see smaller gravitational energies is due to S impacting the material properties, namely density and chemical expansivity, reducing Qg_l."
   ]
  },
  {
   "cell_type": "code",
   "execution_count": 15,
   "metadata": {},
   "outputs": [
    {
     "name": "stdout",
     "output_type": "stream",
     "text": [
      "S = 0.05\n",
      "iteration: 100    Tcen: 1856.77 ˚K    Q(rs): 0.01 TW    ADR(rs): 3.61    snow depth: 144.83 km\n",
      "S = 0.15\n",
      "iteration: 100    Tcen: 1623.43 ˚K    Q(rs): 0.01 TW    ADR(rs): 10.15    snow depth: 8.85 km\n",
      "iteration: 200    Tcen: 1622.62 ˚K    Q(rs): 0.01 TW    ADR(rs): 10.16    snow depth: 19.06 km\n",
      "iteration: 300    Tcen: 1621.81 ˚K    Q(rs): 0.01 TW    ADR(rs): 10.16    snow depth: 31.04 km\n",
      "iteration: 400    Tcen: 1621.00 ˚K    Q(rs): 0.01 TW    ADR(rs): 10.17    snow depth: 45.71 km\n",
      "iteration: 500    Tcen: 1620.19 ˚K    Q(rs): 0.01 TW    ADR(rs): 10.17    snow depth: 64.99 km\n",
      "iteration: 600    Tcen: 1619.39 ˚K    Q(rs): 0.01 TW    ADR(rs): 10.18    snow depth: 94.36 km\n",
      "iteration: 700    Tcen: 1618.59 ˚K    Q(rs): 0.01 TW    ADR(rs): 10.18    snow depth: 191.12 km\n"
     ]
    }
   ],
   "source": [
    "import matplotlib.pyplot as plt\n",
    "import numpy as np\n",
    "import os\n",
    "from scipy.integrate import trapezoid\n",
    "import sys\n",
    "\n",
    "sys.path.append('../useful_scripts')#Make useful scripts directory visible to import our custom setup_model\n",
    "import eos_setup_model\n",
    "\n",
    "import thermal_history as th\n",
    "from thermal_history.core_models.leeds.routines import rivoldini_eos as eos\n",
    "\n",
    "#Load parameters\n",
    "prm = th.model.Parameters(('../300km/300_params.py',))\n",
    "prm.stable_layer = False\n",
    "\n",
    "#Loop over different compositions\n",
    "S_array = [0.05, 0.15]\n",
    "\n",
    "q_cmb   = 10       #mW/m^2 Constant CMB heat flux.\n",
    "\n",
    "models = [] #Save models into list\n",
    "\n",
    "#Begin loops\n",
    "for S in S_array:\n",
    "   prm.conc_l[0] = S  #Set composition\n",
    "\n",
    "   #Setup model\n",
    "   model = eos_setup_model.setup_model(prm, core_method='leeds', verbose=False)\n",
    "   print(f'S = {S}')\n",
    "\n",
    "   model.mantle.Q_cmb = q_cmb*1e-3 * 4*np.pi*prm.r_cmb**2 #Set constant CMB heat flow\n",
    "\n",
    "   #Run model, breaking when snow zone covers whole core or non top-down freezing occurs\n",
    "   #either will cause model.critical_failure = True as it is not defined in the model\n",
    "   #how proceed in these scenarios\n",
    "\n",
    "   dt = 1e4*prm.ys\n",
    "   while not model.critical_failure and model.it < (4.5e9*prm.ys/dt):\n",
    "\n",
    "      model.evolve(dt, print_freq=100, verbose=True) #Evolve model\n",
    "\n",
    "      #Break just as the snow zone covers the whole core and append to our list.\n",
    "      if model.core.r_snow == 0:\n",
    "         models.append(model)\n",
    "         break"
   ]
  },
  {
   "cell_type": "code",
   "execution_count": 32,
   "metadata": {},
   "outputs": [
    {
     "name": "stdout",
     "output_type": "stream",
     "text": [
      "----------------------\n",
      "S=5.0\n",
      "density = [6781.82827656]\n",
      "alpha_c = [1.56722776]\n",
      "r_snow = 41.5km\n",
      "\n",
      "Integral of rho: 6.8e+03\n",
      "Integral of rho*psi: -5.7e+08\n",
      "Integral of rho*psi*alpha: -9.0e+08\n",
      "Integral of rho*psi*alpha*Cp: -1.0e+08\n",
      "Integral of rho*psi*alpha*(Cp+Cc*Cr): -1.0e+08\n",
      "Qg_l = 2.6e-05\n",
      "----------------------\n",
      "S=15.0\n",
      "density = [6130.26571837]\n",
      "alpha_c = [0.85752587]\n",
      "r_snow = 48.1km\n",
      "\n",
      "Integral of rho: 6.1e+03\n",
      "Integral of rho*psi: -4.7e+08\n",
      "Integral of rho*psi*alpha: -4.0e+08\n",
      "Integral of rho*psi*alpha*Cp: -3.0e+07\n",
      "Integral of rho*psi*alpha*(Cp+Cc*Cr): -3.0e+07\n",
      "Qg_l = 9.8e-06\n"
     ]
    }
   ],
   "source": [
    "from scipy.integrate import trapezoid\n",
    "\n",
    "for m in models:\n",
    "    print('----------------------')\n",
    "    print(f'S={m.core.initial_conc_l*100}')\n",
    "    print(f'density = {m.parameters.core_liquid_density_params}')\n",
    "    print(f'alpha_c = {m.parameters.alpha_c}')\n",
    "    prof = m.core.profiles\n",
    "\n",
    "    #Index for arrays of snow zone radius\n",
    "    idx = np.where(prof['Cl']==0)[0][-1]\n",
    "    r, rho, psi = prof['r'][:idx], prof['rho'][:idx], prof['psi'][:idx]\n",
    "\n",
    "    print(f'r_snow = {r[-1]/1000:.1f}km')\n",
    "    vol = trapezoid(r**2, x=r)\n",
    "    #Normalise to the liquid region volume as r_snow is not quite at the same radius in both models.\n",
    "\n",
    "    print('')\n",
    "    integral = trapezoid(rho*r**2, x=r)/vol\n",
    "    print(f'Integral of rho: {integral:.1e}')\n",
    "\n",
    "    integral = trapezoid(psi*rho*r**2, x=r)/vol\n",
    "    print(f'Integral of rho*psi: {integral:.1e}')\n",
    "\n",
    "    integral = trapezoid(psi*rho*r**2 * m.parameters.alpha_c, x=r)/vol\n",
    "    print(f'Integral of rho*psi*alpha: {integral:.1e}')\n",
    "\n",
    "    integral = trapezoid(psi*rho*r**2 * m.parameters.alpha_c*m.core.Cp, x=r)/vol\n",
    "    print(f'Integral of rho*psi*alpha*Cp: {integral:.1e}')\n",
    "\n",
    "    integral = trapezoid(psi*rho*r**2 * m.parameters.alpha_c*(m.core.Cp+m.core.Cc*m.core.Cr), x=r)/vol\n",
    "    print(f'Integral of rho*psi*alpha*(Cp+Cc*Cr): {integral:.1e}')\n",
    "\n",
    "    print(f'Qg_l = {m.core.Qg_l[0]/vol:.1e}')\n"
   ]
  },
  {
   "cell_type": "code",
   "execution_count": null,
   "metadata": {},
   "outputs": [],
   "source": [
    "\n"
   ]
  },
  {
   "cell_type": "code",
   "execution_count": 30,
   "metadata": {},
   "outputs": [
    {
     "name": "stderr",
     "output_type": "stream",
     "text": [
      "/usr/local/Caskroom/miniconda/base/lib/python3.9/site-packages/numpy/core/_asarray.py:102: VisibleDeprecationWarning: Creating an ndarray from ragged nested sequences (which is a list-or-tuple of lists-or-tuples-or ndarrays with different lengths or shapes) is deprecated. If you meant to do this, you must specify 'dtype=object' when creating the ndarray.\n",
      "  return array(a, dtype, copy=False, order=order)\n"
     ]
    },
    {
     "data": {
      "image/png": "[encoded data removed]",
      "text/plain": [
       "<Figure size 432x288 with 1 Axes>"
      ]
     },
     "metadata": {
      "needs_background": "light"
     },
     "output_type": "display_data"
    },
    {
     "name": "stdout",
     "output_type": "stream",
     "text": [
      "dict_keys(['r', 'rho', 'g', 'P', 'cp', 'alpha', 'psi', 'Ta', 'dTa_dr', 'T', 'conc_l', 'dS', 'Tm_fe', 'Tm', 'dTm_dP', 'k', 'Qa', 'L', 'Cl', 'phi_snow'])\n"
     ]
    },
    {
     "data": {
      "image/png": "[encoded data removed]",
      "text/plain": [
       "<Figure size 432x288 with 1 Axes>"
      ]
     },
     "metadata": {
      "needs_background": "light"
     },
     "output_type": "display_data"
    }
   ],
   "source": [
    "m1 = models[0]\n",
    "m1_data = m1.save_dict_to_numpy_array()\n",
    "prof1   = m1.core.profiles\n",
    "\n",
    "m2 = models[1]\n",
    "m2_data = m2.save_dict_to_numpy_array()\n",
    "prof2   = m2.core.profiles\n",
    "\n",
    "ys = m1.parameters.ys\n",
    "\n",
    "#Plot Qg_l time series\n",
    "for data in [m1_data, m2_data]:\n",
    "    S = float(data['core']['conc_l'][0])\n",
    "    time = data['core']['time']/(ys*1e6)\n",
    "    Qg_l = data['core']['Qg_l']\n",
    "    plt.plot(time, Qg_l, label=f'S={S*100}')\n",
    "\n",
    "plt.xlabel('time [Myrs]')\n",
    "plt.ylabel('W', rotation=0, labelpad=10)\n",
    "plt.legend(loc=0)\n",
    "plt.show()\n",
    "\n",
    "#Plot radial profiles at last time step\n",
    "print(prof1.keys()) #Available profiles\n",
    "\n",
    "for m in models:\n",
    "    prof = m.core.profiles\n",
    "\n",
    "    plt.plot(prof['r']/1000, prof['psi'], label=f'S={m.core.initial_conc_l*100}')\n",
    "\n",
    "plt.legend(loc=0)\n",
    "plt.show()"
   ]
  },
  {
   "cell_type": "code",
   "execution_count": null,
   "metadata": {},
   "outputs": [],
   "source": []
  },
  {
   "cell_type": "code",
   "execution_count": null,
   "metadata": {},
   "outputs": [],
   "source": []
  }
 ],
 "metadata": {
  "interpreter": {
   "hash": "c30f2af5f468e7f5b45bcc30fca5f4886c90d54777aed916ed5f6294dfb24bf2"
  },
  "kernelspec": {
   "display_name": "Python 3 (ipykernel)",
   "language": "python",
   "name": "python3"
  },
  "language_info": {
   "codemirror_mode": {
    "name": "ipython",
    "version": 3
   },
   "file_extension": ".py",
   "mimetype": "text/x-python",
   "name": "python",
   "nbconvert_exporter": "python",
   "pygments_lexer": "ipython3",
   "version": "3.9.12"
  }
 },
 "nbformat": 4,
 "nbformat_minor": 2
}
